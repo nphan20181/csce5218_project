{
 "cells": [
  {
   "cell_type": "markdown",
   "id": "b5fbaca5",
   "metadata": {},
   "source": [
    "# This file is concerned with creating and training the Transfer learning model\n",
    "\n",
    "# to execute this file you first run the dataprep file \n",
    "# or download the data we prepared by using that file from this link\n",
    "# https://drive.google.com/drive/folders/1AQU8whF8VYNGBVG_3SWsn3sgqbk7j-4o"
   ]
  },
  {
   "cell_type": "markdown",
   "id": "f6cbf030",
   "metadata": {},
   "source": [
    "# if you download this data you need to place the training and testing folders in the main directory"
   ]
  },
  {
   "cell_type": "markdown",
   "id": "8033de75",
   "metadata": {
    "papermill": {
     "duration": 0.073943,
     "end_time": "2022-04-29T18:50:43.221101",
     "exception": false,
     "start_time": "2022-04-29T18:50:43.147158",
     "status": "completed"
    },
    "tags": []
   },
   "source": [
    "# Importing Libraries"
   ]
  },
  {
   "cell_type": "code",
   "execution_count": 1,
   "id": "9393094a",
   "metadata": {
    "_cell_guid": "b1076dfc-b9ad-4769-8c92-a6c4dae69d19",
    "_uuid": "8f2839f25d086af736a60e9eeb907d3b93b6e0e5",
    "execution": {
     "iopub.execute_input": "2022-04-29T18:50:43.351611Z",
     "iopub.status.busy": "2022-04-29T18:50:43.350776Z",
     "iopub.status.idle": "2022-04-29T18:50:50.332503Z",
     "shell.execute_reply": "2022-04-29T18:50:50.331539Z"
    },
    "papermill": {
     "duration": 7.039842,
     "end_time": "2022-04-29T18:50:50.335315",
     "exception": false,
     "start_time": "2022-04-29T18:50:43.295473",
     "status": "completed"
    },
    "tags": []
   },
   "outputs": [],
   "source": [
    "import os \n",
    "import warnings\n",
    "warnings.filterwarnings('always')\n",
    "warnings.filterwarnings('ignore')\n",
    "import numpy as np\n",
    "import pandas as pd\n",
    "import matplotlib.pyplot as plt\n",
    "from sklearn.model_selection import train_test_split\n",
    "from sklearn.metrics import confusion_matrix\n",
    "from sklearn.preprocessing import LabelEncoder\n",
    "from keras.preprocessing.image import ImageDataGenerator\n",
    "from keras.models import Sequential,Model\n",
    "from keras.layers import Dense,Conv2D, MaxPooling2D, BatchNormalization,Dropout, Flatten,Activation,concatenate,Input,AlphaDropout\n",
    "from tensorflow.keras.optimizers import Adam\n",
    "from keras import models\n",
    "from tensorflow.keras.utils import to_categorical\n",
    "import tensorflow as tf\n",
    "import random as rn\n",
    "import cv2                  \n",
    "from tqdm import tqdm\n",
    "from random import shuffle, randint\n",
    "import itertools\n",
    "from keras.callbacks import ReduceLROnPlateau, ModelCheckpoint, EarlyStopping\n",
    "from keras import backend as K\n",
    "from tensorflow.keras.applications.vgg16 import VGG16\n",
    "\n",
    "\n"
   ]
  },
  {
   "cell_type": "markdown",
   "id": "31e5ee88",
   "metadata": {
    "papermill": {
     "duration": 0.030631,
     "end_time": "2022-04-29T18:50:50.397838",
     "exception": false,
     "start_time": "2022-04-29T18:50:50.367207",
     "status": "completed"
    },
    "tags": []
   },
   "source": [
    "# Importing Training Dataset"
   ]
  },
  {
   "cell_type": "code",
   "execution_count": 2,
   "id": "78212f5e",
   "metadata": {
    "execution": {
     "iopub.execute_input": "2022-04-29T18:50:50.459636Z",
     "iopub.status.busy": "2022-04-29T18:50:50.459263Z",
     "iopub.status.idle": "2022-04-29T18:52:37.373189Z",
     "shell.execute_reply": "2022-04-29T18:52:37.370845Z"
    },
    "papermill": {
     "duration": 106.94765,
     "end_time": "2022-04-29T18:52:37.375567",
     "exception": false,
     "start_time": "2022-04-29T18:50:50.427917",
     "status": "completed"
    },
    "tags": []
   },
   "outputs": [
    {
     "name": "stderr",
     "output_type": "stream",
     "text": [
      "100%|██████████| 900/900 [00:11<00:00, 75.65it/s]\n",
      "100%|██████████| 902/902 [00:12<00:00, 72.88it/s]\n",
      "100%|██████████| 900/900 [00:11<00:00, 76.80it/s]\n",
      "100%|██████████| 900/900 [00:11<00:00, 75.21it/s]\n",
      "100%|██████████| 900/900 [00:11<00:00, 80.69it/s]\n",
      "100%|██████████| 900/900 [00:11<00:00, 81.20it/s]\n",
      "100%|██████████| 900/900 [00:11<00:00, 79.98it/s]\n",
      "100%|██████████| 900/900 [00:10<00:00, 81.84it/s]\n",
      "100%|██████████| 900/900 [00:11<00:00, 80.85it/s]\n"
     ]
    }
   ],
   "source": [
    "x=[]\n",
    "y=[]\n",
    "path='train/'\n",
    "for ftype in os.listdir(path):\n",
    "    for img in tqdm(os.listdir(path+ftype)):\n",
    "        label=ftype\n",
    "        path1 = os.path.join(path+ftype,img)\n",
    "        img = cv2.imread(path1)\n",
    "        x.append(np.array(img))\n",
    "        y.append(str(label))"
   ]
  },
  {
   "cell_type": "markdown",
   "id": "cbe61faa",
   "metadata": {
    "papermill": {
     "duration": 0.416795,
     "end_time": "2022-04-29T18:52:38.208346",
     "exception": false,
     "start_time": "2022-04-29T18:52:37.791551",
     "status": "completed"
    },
    "tags": []
   },
   "source": [
    "# Encoding the data"
   ]
  },
  {
   "cell_type": "code",
   "execution_count": 3,
   "id": "066c0c0d",
   "metadata": {
    "execution": {
     "iopub.execute_input": "2022-04-29T18:52:39.047118Z",
     "iopub.status.busy": "2022-04-29T18:52:39.046798Z",
     "iopub.status.idle": "2022-04-29T18:52:40.201679Z",
     "shell.execute_reply": "2022-04-29T18:52:40.200735Z"
    },
    "papermill": {
     "duration": 1.576354,
     "end_time": "2022-04-29T18:52:40.204290",
     "exception": false,
     "start_time": "2022-04-29T18:52:38.627936",
     "status": "completed"
    },
    "tags": []
   },
   "outputs": [],
   "source": [
    "encoder=LabelEncoder()\n",
    "y=encoder.fit_transform(y)\n",
    "y=to_categorical(y,9)\n",
    "x=np.array(x)"
   ]
  },
  {
   "cell_type": "markdown",
   "id": "80192d40",
   "metadata": {
    "papermill": {
     "duration": 0.435102,
     "end_time": "2022-04-29T18:52:41.050617",
     "exception": false,
     "start_time": "2022-04-29T18:52:40.615515",
     "status": "completed"
    },
    "tags": []
   },
   "source": [
    "# splitting the data into training and validation datasets using stratified split"
   ]
  },
  {
   "cell_type": "code",
   "execution_count": 4,
   "id": "c346968e",
   "metadata": {
    "execution": {
     "iopub.execute_input": "2022-04-29T18:52:41.882829Z",
     "iopub.status.busy": "2022-04-29T18:52:41.882539Z",
     "iopub.status.idle": "2022-04-29T18:52:43.090806Z",
     "shell.execute_reply": "2022-04-29T18:52:43.089697Z"
    },
    "papermill": {
     "duration": 1.625971,
     "end_time": "2022-04-29T18:52:43.093550",
     "exception": false,
     "start_time": "2022-04-29T18:52:41.467579",
     "status": "completed"
    },
    "tags": []
   },
   "outputs": [],
   "source": [
    "x_train,x_val,y_train,y_val=train_test_split(x,y,test_size=0.10,random_state=42,stratify=y)"
   ]
  },
  {
   "cell_type": "code",
   "execution_count": 5,
   "id": "8d85b8e7",
   "metadata": {
    "execution": {
     "iopub.execute_input": "2022-04-29T18:52:44.285665Z",
     "iopub.status.busy": "2022-04-29T18:52:44.285252Z",
     "iopub.status.idle": "2022-04-29T18:52:44.297178Z",
     "shell.execute_reply": "2022-04-29T18:52:44.292483Z"
    },
    "papermill": {
     "duration": 0.782988,
     "end_time": "2022-04-29T18:52:44.300236",
     "exception": false,
     "start_time": "2022-04-29T18:52:43.517248",
     "status": "completed"
    },
    "tags": []
   },
   "outputs": [],
   "source": [
    "np.random.seed(42)\n",
    "rn.seed(42)"
   ]
  },
  {
   "cell_type": "markdown",
   "id": "df8e299f",
   "metadata": {
    "papermill": {
     "duration": 0.538806,
     "end_time": "2022-04-29T18:52:45.853507",
     "exception": false,
     "start_time": "2022-04-29T18:52:45.314701",
     "status": "completed"
    },
    "tags": []
   },
   "source": [
    "# Visualizing a random image from the training dataset"
   ]
  },
  {
   "cell_type": "code",
   "execution_count": 6,
   "id": "761cfea6",
   "metadata": {
    "execution": {
     "iopub.execute_input": "2022-04-29T18:52:46.686551Z",
     "iopub.status.busy": "2022-04-29T18:52:46.686211Z",
     "iopub.status.idle": "2022-04-29T18:52:46.974211Z",
     "shell.execute_reply": "2022-04-29T18:52:46.973206Z"
    },
    "papermill": {
     "duration": 0.709513,
     "end_time": "2022-04-29T18:52:46.977510",
     "exception": false,
     "start_time": "2022-04-29T18:52:46.267997",
     "status": "completed"
    },
    "tags": []
   },
   "outputs": [
    {
     "data": {
      "image/png": "[encoded data removed]",
      "text/plain": [
       "<Figure size 432x288 with 1 Axes>"
      ]
     },
     "metadata": {
      "needs_background": "light"
     },
     "output_type": "display_data"
    }
   ],
   "source": [
    "plt.imshow(x_train[randint(0, len(x_train)-1)])\n",
    "plt.title(\"Random Image from the dataset\")\n",
    "plt.show()"
   ]
  },
  {
   "cell_type": "markdown",
   "id": "bf15ff2c",
   "metadata": {
    "papermill": {
     "duration": 0.415462,
     "end_time": "2022-04-29T18:52:47.815237",
     "exception": false,
     "start_time": "2022-04-29T18:52:47.399775",
     "status": "completed"
    },
    "tags": []
   },
   "source": [
    "# Importing VGG 16 as the base model of our neural network"
   ]
  },
  {
   "cell_type": "code",
   "execution_count": 7,
   "id": "aa1cfe9c",
   "metadata": {
    "execution": {
     "iopub.execute_input": "2022-04-29T18:52:48.657250Z",
     "iopub.status.busy": "2022-04-29T18:52:48.656943Z",
     "iopub.status.idle": "2022-04-29T18:52:52.129789Z",
     "shell.execute_reply": "2022-04-29T18:52:52.128622Z"
    },
    "papermill": {
     "duration": 3.895023,
     "end_time": "2022-04-29T18:52:52.132419",
     "exception": false,
     "start_time": "2022-04-29T18:52:48.237396",
     "status": "completed"
    },
    "tags": []
   },
   "outputs": [
    {
     "name": "stderr",
     "output_type": "stream",
     "text": [
      "2022-04-29 18:52:48.770436: I tensorflow/stream_executor/cuda/cuda_gpu_executor.cc:937] successful NUMA node read from SysFS had negative value (-1), but there must be at least one NUMA node, so returning NUMA node zero\n",
      "2022-04-29 18:52:48.879560: I tensorflow/stream_executor/cuda/cuda_gpu_executor.cc:937] successful NUMA node read from SysFS had negative value (-1), but there must be at least one NUMA node, so returning NUMA node zero\n",
      "2022-04-29 18:52:48.880842: I tensorflow/stream_executor/cuda/cuda_gpu_executor.cc:937] successful NUMA node read from SysFS had negative value (-1), but there must be at least one NUMA node, so returning NUMA node zero\n",
      "2022-04-29 18:52:48.883064: I tensorflow/core/platform/cpu_feature_guard.cc:142] This TensorFlow binary is optimized with oneAPI Deep Neural Network Library (oneDNN) to use the following CPU instructions in performance-critical operations:  AVX2 FMA\n",
      "To enable them in other operations, rebuild TensorFlow with the appropriate compiler flags.\n",
      "2022-04-29 18:52:48.883477: I tensorflow/stream_executor/cuda/cuda_gpu_executor.cc:937] successful NUMA node read from SysFS had negative value (-1), but there must be at least one NUMA node, so returning NUMA node zero\n",
      "2022-04-29 18:52:48.884517: I tensorflow/stream_executor/cuda/cuda_gpu_executor.cc:937] successful NUMA node read from SysFS had negative value (-1), but there must be at least one NUMA node, so returning NUMA node zero\n",
      "2022-04-29 18:52:48.885519: I tensorflow/stream_executor/cuda/cuda_gpu_executor.cc:937] successful NUMA node read from SysFS had negative value (-1), but there must be at least one NUMA node, so returning NUMA node zero\n",
      "2022-04-29 18:52:50.953065: I tensorflow/stream_executor/cuda/cuda_gpu_executor.cc:937] successful NUMA node read from SysFS had negative value (-1), but there must be at least one NUMA node, so returning NUMA node zero\n",
      "2022-04-29 18:52:50.954260: I tensorflow/stream_executor/cuda/cuda_gpu_executor.cc:937] successful NUMA node read from SysFS had negative value (-1), but there must be at least one NUMA node, so returning NUMA node zero\n",
      "2022-04-29 18:52:50.955198: I tensorflow/stream_executor/cuda/cuda_gpu_executor.cc:937] successful NUMA node read from SysFS had negative value (-1), but there must be at least one NUMA node, so returning NUMA node zero\n",
      "2022-04-29 18:52:50.956890: I tensorflow/core/common_runtime/gpu/gpu_device.cc:1510] Created device /job:localhost/replica:0/task:0/device:GPU:0 with 15403 MB memory:  -> device: 0, name: Tesla P100-PCIE-16GB, pci bus id: 0000:00:04.0, compute capability: 6.0\n"
     ]
    },
    {
     "name": "stdout",
     "output_type": "stream",
     "text": [
      "Downloading data from https://storage.googleapis.com/tensorflow/keras-applications/vgg16/vgg16_weights_tf_dim_ordering_tf_kernels_notop.h5\n",
      "58892288/58889256 [==============================] - 1s 0us/step\n",
      "58900480/58889256 [==============================] - 1s 0us/step\n"
     ]
    }
   ],
   "source": [
    "base_model = VGG16(weights=\"imagenet\", include_top=False, input_shape=(288, 432,3))"
   ]
  },
  {
   "cell_type": "markdown",
   "id": "fc362103",
   "metadata": {
    "papermill": {
     "duration": 0.428062,
     "end_time": "2022-04-29T18:52:53.047920",
     "exception": false,
     "start_time": "2022-04-29T18:52:52.619858",
     "status": "completed"
    },
    "tags": []
   },
   "source": [
    "# Freezing the weights of the pre-trained base model"
   ]
  },
  {
   "cell_type": "code",
   "execution_count": 8,
   "id": "0fc06ff9",
   "metadata": {
    "execution": {
     "iopub.execute_input": "2022-04-29T18:52:53.911225Z",
     "iopub.status.busy": "2022-04-29T18:52:53.910474Z",
     "iopub.status.idle": "2022-04-29T18:52:53.918403Z",
     "shell.execute_reply": "2022-04-29T18:52:53.917471Z"
    },
    "papermill": {
     "duration": 0.439547,
     "end_time": "2022-04-29T18:52:53.920475",
     "exception": false,
     "start_time": "2022-04-29T18:52:53.480928",
     "status": "completed"
    },
    "tags": []
   },
   "outputs": [],
   "source": [
    "for layer in base_model.layers[:]:\n",
    "    layer.trainable = False"
   ]
  },
  {
   "cell_type": "markdown",
   "id": "d14760d3",
   "metadata": {
    "papermill": {
     "duration": 0.476651,
     "end_time": "2022-04-29T18:52:54.831959",
     "exception": false,
     "start_time": "2022-04-29T18:52:54.355308",
     "status": "completed"
    },
    "tags": []
   },
   "source": [
    "# Adding additional layers to our neural network and creating a new model"
   ]
  },
  {
   "cell_type": "code",
   "execution_count": 9,
   "id": "f0dd0ada",
   "metadata": {
    "execution": {
     "iopub.execute_input": "2022-04-29T18:52:55.927277Z",
     "iopub.status.busy": "2022-04-29T18:52:55.926944Z",
     "iopub.status.idle": "2022-04-29T18:52:56.103606Z",
     "shell.execute_reply": "2022-04-29T18:52:56.102526Z"
    },
    "papermill": {
     "duration": 0.608903,
     "end_time": "2022-04-29T18:52:56.106137",
     "exception": false,
     "start_time": "2022-04-29T18:52:55.497234",
     "status": "completed"
    },
    "tags": []
   },
   "outputs": [],
   "source": [
    "\n",
    "model = models.Sequential([\n",
    "    \n",
    "   base_model,\n",
    "\n",
    "   Conv2D(256,kernel_size=(5,5),strides=(1,1)),\n",
    "   BatchNormalization(axis=-1),\n",
    "   Activation('relu'),\n",
    "\n",
    "   Conv2D(128,kernel_size=(3,3),strides=(1,1)),\n",
    "   BatchNormalization(axis=-1),\n",
    "   Activation('relu'),\n",
    "\n",
    "   Conv2D(128,kernel_size=(3,3),strides=(1,1)),\n",
    "   BatchNormalization(axis=-1),\n",
    "   Activation('relu'),\n",
    "\n",
    "   Flatten(),\n",
    "   Dense(256, activation = \"sigmoid\"),\n",
    "   Dense(128, activation = \"sigmoid\"),\n",
    "   Dense(9, activation = \"softmax\")\n",
    "    \n",
    "   ])\n",
    "\n",
    "\n",
    "model.compile(optimizer=Adam(lr=0.0005),loss='CategoricalCrossentropy',metrics=['accuracy'])"
   ]
  },
  {
   "cell_type": "markdown",
   "id": "081b8de9",
   "metadata": {
    "papermill": {
     "duration": 0.424876,
     "end_time": "2022-04-29T18:52:56.955047",
     "exception": false,
     "start_time": "2022-04-29T18:52:56.530171",
     "status": "completed"
    },
    "tags": []
   },
   "source": [
    "# Visializing the model"
   ]
  },
  {
   "cell_type": "code",
   "execution_count": 10,
   "id": "86063803",
   "metadata": {
    "execution": {
     "iopub.execute_input": "2022-04-29T18:52:57.810825Z",
     "iopub.status.busy": "2022-04-29T18:52:57.810494Z",
     "iopub.status.idle": "2022-04-29T18:52:57.829953Z",
     "shell.execute_reply": "2022-04-29T18:52:57.828811Z"
    },
    "papermill": {
     "duration": 0.45172,
     "end_time": "2022-04-29T18:52:57.832170",
     "exception": false,
     "start_time": "2022-04-29T18:52:57.380450",
     "status": "completed"
    },
    "tags": []
   },
   "outputs": [
    {
     "name": "stdout",
     "output_type": "stream",
     "text": [
      "Model: \"sequential\"\n",
      "_________________________________________________________________\n",
      "Layer (type)                 Output Shape              Param #   \n",
      "=================================================================\n",
      "vgg16 (Functional)           (None, 9, 13, 512)        14714688  \n",
      "_________________________________________________________________\n",
      "conv2d (Conv2D)              (None, 5, 9, 256)         3277056   \n",
      "_________________________________________________________________\n",
      "batch_normalization (BatchNo (None, 5, 9, 256)         1024      \n",
      "_________________________________________________________________\n",
      "activation (Activation)      (None, 5, 9, 256)         0         \n",
      "_________________________________________________________________\n",
      "conv2d_1 (Conv2D)            (None, 3, 7, 128)         295040    \n",
      "_________________________________________________________________\n",
      "batch_normalization_1 (Batch (None, 3, 7, 128)         512       \n",
      "_________________________________________________________________\n",
      "activation_1 (Activation)    (None, 3, 7, 128)         0         \n",
      "_________________________________________________________________\n",
      "conv2d_2 (Conv2D)            (None, 1, 5, 128)         147584    \n",
      "_________________________________________________________________\n",
      "batch_normalization_2 (Batch (None, 1, 5, 128)         512       \n",
      "_________________________________________________________________\n",
      "activation_2 (Activation)    (None, 1, 5, 128)         0         \n",
      "_________________________________________________________________\n",
      "flatten (Flatten)            (None, 640)               0         \n",
      "_________________________________________________________________\n",
      "dense (Dense)                (None, 256)               164096    \n",
      "_________________________________________________________________\n",
      "dense_1 (Dense)              (None, 128)               32896     \n",
      "_________________________________________________________________\n",
      "dense_2 (Dense)              (None, 9)                 1161      \n",
      "=================================================================\n",
      "Total params: 18,634,569\n",
      "Trainable params: 3,918,857\n",
      "Non-trainable params: 14,715,712\n",
      "_________________________________________________________________\n"
     ]
    }
   ],
   "source": [
    "model.summary()"
   ]
  },
  {
   "cell_type": "markdown",
   "id": "d1e2636f",
   "metadata": {
    "papermill": {
     "duration": 0.423575,
     "end_time": "2022-04-29T18:52:58.675308",
     "exception": false,
     "start_time": "2022-04-29T18:52:58.251733",
     "status": "completed"
    },
    "tags": []
   },
   "source": [
    "# Training the model for 5 epochs initially"
   ]
  },
  {
   "cell_type": "code",
   "execution_count": 11,
   "id": "20c53bce",
   "metadata": {
    "execution": {
     "iopub.execute_input": "2022-04-29T18:52:59.549520Z",
     "iopub.status.busy": "2022-04-29T18:52:59.549214Z",
     "iopub.status.idle": "2022-04-29T18:57:27.386738Z",
     "shell.execute_reply": "2022-04-29T18:57:27.385577Z"
    },
    "papermill": {
     "duration": 268.286436,
     "end_time": "2022-04-29T18:57:27.390103",
     "exception": false,
     "start_time": "2022-04-29T18:52:59.103667",
     "status": "completed"
    },
    "tags": []
   },
   "outputs": [
    {
     "name": "stderr",
     "output_type": "stream",
     "text": [
      "2022-04-29 18:52:59.554675: W tensorflow/core/framework/cpu_allocator_impl.cc:80] Allocation of 2721351168 exceeds 10% of free system memory.\n",
      "2022-04-29 18:53:02.349975: W tensorflow/core/framework/cpu_allocator_impl.cc:80] Allocation of 2721351168 exceeds 10% of free system memory.\n",
      "2022-04-29 18:53:04.355276: I tensorflow/compiler/mlir/mlir_graph_optimization_pass.cc:185] None of the MLIR Optimization Passes are enabled (registered 2)\n"
     ]
    },
    {
     "name": "stdout",
     "output_type": "stream",
     "text": [
      "Epoch 1/5\n"
     ]
    },
    {
     "name": "stderr",
     "output_type": "stream",
     "text": [
      "2022-04-29 18:53:06.651016: I tensorflow/stream_executor/cuda/cuda_dnn.cc:369] Loaded cuDNN version 8005\n"
     ]
    },
    {
     "name": "stdout",
     "output_type": "stream",
     "text": [
      "57/57 [==============================] - ETA: 0s - loss: 1.3871 - accuracy: 0.6305"
     ]
    },
    {
     "name": "stderr",
     "output_type": "stream",
     "text": [
      "2022-04-29 18:54:16.151059: W tensorflow/core/framework/cpu_allocator_impl.cc:80] Allocation of 302704128 exceeds 10% of free system memory.\n",
      "2022-04-29 18:54:16.340204: W tensorflow/core/framework/cpu_allocator_impl.cc:80] Allocation of 302704128 exceeds 10% of free system memory.\n"
     ]
    },
    {
     "name": "stdout",
     "output_type": "stream",
     "text": [
      "57/57 [==============================] - 83s 1s/step - loss: 1.3871 - accuracy: 0.6305 - val_loss: 1.1291 - val_accuracy: 0.6486\n",
      "Epoch 2/5\n",
      "57/57 [==============================] - 37s 645ms/step - loss: 0.5288 - accuracy: 0.8767 - val_loss: 0.6049 - val_accuracy: 0.8052\n",
      "Epoch 3/5\n",
      "57/57 [==============================] - 37s 644ms/step - loss: 0.2786 - accuracy: 0.9314 - val_loss: 0.6214 - val_accuracy: 0.7978\n",
      "Epoch 4/5\n",
      "57/57 [==============================] - 37s 643ms/step - loss: 0.1747 - accuracy: 0.9612 - val_loss: 0.5382 - val_accuracy: 0.8200\n",
      "Epoch 5/5\n",
      "57/57 [==============================] - 37s 643ms/step - loss: 0.1129 - accuracy: 0.9759 - val_loss: 0.4122 - val_accuracy: 0.8755\n"
     ]
    }
   ],
   "source": [
    "history = model.fit(x_train,y_train, batch_size=128,\n",
    "                              epochs = 5, \n",
    "                              validation_data = (x_val,y_val),\n",
    "                              verbose = 1,\n",
    "                             )"
   ]
  },
  {
   "cell_type": "code",
   "execution_count": 12,
   "id": "766720fe",
   "metadata": {
    "execution": {
     "iopub.execute_input": "2022-04-29T18:57:28.473200Z",
     "iopub.status.busy": "2022-04-29T18:57:28.472527Z",
     "iopub.status.idle": "2022-04-29T18:57:29.367414Z",
     "shell.execute_reply": "2022-04-29T18:57:29.366506Z"
    },
    "papermill": {
     "duration": 1.43927,
     "end_time": "2022-04-29T18:57:29.369704",
     "exception": false,
     "start_time": "2022-04-29T18:57:27.930434",
     "status": "completed"
    },
    "tags": []
   },
   "outputs": [
    {
     "data": {
      "image/png": "[encoded data removed]",
      "text/plain": [
       "<Figure size 432x288 with 1 Axes>"
      ]
     },
     "metadata": {
      "needs_background": "light"
     },
     "output_type": "display_data"
    },
    {
     "data": {
      "image/png": "[encoded data removed]",
      "text/plain": [
       "<Figure size 432x288 with 1 Axes>"
      ]
     },
     "metadata": {
      "needs_background": "light"
     },
     "output_type": "display_data"
    }
   ],
   "source": [
    "acc = history.history['accuracy']\n",
    "val_acc = history.history['val_accuracy']\n",
    "loss = history.history['loss']\n",
    "val_loss = history.history['val_loss']\n",
    "epochs = range(1, len(acc) + 1)\n",
    "plt.plot(epochs, acc, 'bo', label='Training accuracy')\n",
    "plt.plot(epochs, val_acc, 'r', label='Validation accuracy')\n",
    "plt.title('Training and validation accuracy')\n",
    "plt.legend()\n",
    "plt.figure()\n",
    "plt.plot(epochs, loss, 'bo', label='Training loss')\n",
    "plt.plot(epochs, val_loss, 'r', label='Validation loss')\n",
    "plt.title('Training and validation loss')\n",
    "plt.legend()\n",
    "plt.show()\n"
   ]
  },
  {
   "cell_type": "code",
   "execution_count": 13,
   "id": "714a2d87",
   "metadata": {
    "execution": {
     "iopub.execute_input": "2022-04-29T18:57:30.915959Z",
     "iopub.status.busy": "2022-04-29T18:57:30.915291Z",
     "iopub.status.idle": "2022-04-29T18:57:30.934840Z",
     "shell.execute_reply": "2022-04-29T18:57:30.933351Z"
    },
    "papermill": {
     "duration": 0.846574,
     "end_time": "2022-04-29T18:57:30.937566",
     "exception": false,
     "start_time": "2022-04-29T18:57:30.090992",
     "status": "completed"
    },
    "tags": []
   },
   "outputs": [
    {
     "name": "stdout",
     "output_type": "stream",
     "text": [
      "0 input_1 False\n",
      "1 block1_conv1 False\n",
      "2 block1_conv2 False\n",
      "3 block1_pool False\n",
      "4 block2_conv1 False\n",
      "5 block2_conv2 False\n",
      "6 block2_pool False\n",
      "7 block3_conv1 False\n",
      "8 block3_conv2 False\n",
      "9 block3_conv3 False\n",
      "10 block3_pool False\n",
      "11 block4_conv1 False\n",
      "12 block4_conv2 False\n",
      "13 block4_conv3 False\n",
      "14 block4_pool False\n",
      "15 block5_conv1 False\n",
      "16 block5_conv2 False\n",
      "17 block5_conv3 False\n",
      "18 block5_pool False\n"
     ]
    }
   ],
   "source": [
    "for i, layer in enumerate(base_model.layers):\n",
    "    print(i, layer.name, layer.trainable)"
   ]
  },
  {
   "cell_type": "markdown",
   "id": "1dcf97f5",
   "metadata": {
    "papermill": {
     "duration": 0.6193,
     "end_time": "2022-04-29T18:57:32.189222",
     "exception": false,
     "start_time": "2022-04-29T18:57:31.569922",
     "status": "completed"
    },
    "tags": []
   },
   "source": [
    "# Unfreezing the last block of layers in the base model"
   ]
  },
  {
   "cell_type": "code",
   "execution_count": 14,
   "id": "e071b40e",
   "metadata": {
    "execution": {
     "iopub.execute_input": "2022-04-29T18:57:33.456417Z",
     "iopub.status.busy": "2022-04-29T18:57:33.456055Z",
     "iopub.status.idle": "2022-04-29T18:57:33.463562Z",
     "shell.execute_reply": "2022-04-29T18:57:33.461815Z"
    },
    "papermill": {
     "duration": 0.651121,
     "end_time": "2022-04-29T18:57:33.466146",
     "exception": false,
     "start_time": "2022-04-29T18:57:32.815025",
     "status": "completed"
    },
    "tags": []
   },
   "outputs": [],
   "source": [
    "for layer in base_model.layers[:15]:\n",
    "    layer.trainable = False\n",
    "for layer in base_model.layers[15:]:\n",
    "    layer.trainable = True"
   ]
  },
  {
   "cell_type": "code",
   "execution_count": 15,
   "id": "e097d7b4",
   "metadata": {
    "execution": {
     "iopub.execute_input": "2022-04-29T18:57:34.554098Z",
     "iopub.status.busy": "2022-04-29T18:57:34.553807Z",
     "iopub.status.idle": "2022-04-29T18:57:34.571130Z",
     "shell.execute_reply": "2022-04-29T18:57:34.570111Z"
    },
    "papermill": {
     "duration": 0.560567,
     "end_time": "2022-04-29T18:57:34.574828",
     "exception": false,
     "start_time": "2022-04-29T18:57:34.014261",
     "status": "completed"
    },
    "tags": []
   },
   "outputs": [
    {
     "name": "stdout",
     "output_type": "stream",
     "text": [
      "0 input_1 False\n",
      "1 block1_conv1 False\n",
      "2 block1_conv2 False\n",
      "3 block1_pool False\n",
      "4 block2_conv1 False\n",
      "5 block2_conv2 False\n",
      "6 block2_pool False\n",
      "7 block3_conv1 False\n",
      "8 block3_conv2 False\n",
      "9 block3_conv3 False\n",
      "10 block3_pool False\n",
      "11 block4_conv1 False\n",
      "12 block4_conv2 False\n",
      "13 block4_conv3 False\n",
      "14 block4_pool False\n",
      "15 block5_conv1 True\n",
      "16 block5_conv2 True\n",
      "17 block5_conv3 True\n",
      "18 block5_pool True\n"
     ]
    }
   ],
   "source": [
    "for i, layer in enumerate(base_model.layers):\n",
    "    print(i, layer.name, layer.trainable)"
   ]
  },
  {
   "cell_type": "markdown",
   "id": "5e83e230",
   "metadata": {
    "papermill": {
     "duration": 0.543248,
     "end_time": "2022-04-29T18:57:35.657889",
     "exception": false,
     "start_time": "2022-04-29T18:57:35.114641",
     "status": "completed"
    },
    "tags": []
   },
   "source": [
    "# creating callback functions"
   ]
  },
  {
   "cell_type": "code",
   "execution_count": 16,
   "id": "134743ba",
   "metadata": {
    "execution": {
     "iopub.execute_input": "2022-04-29T18:57:36.739177Z",
     "iopub.status.busy": "2022-04-29T18:57:36.738901Z",
     "iopub.status.idle": "2022-04-29T18:57:36.744388Z",
     "shell.execute_reply": "2022-04-29T18:57:36.743461Z"
    },
    "papermill": {
     "duration": 0.553653,
     "end_time": "2022-04-29T18:57:36.746709",
     "exception": false,
     "start_time": "2022-04-29T18:57:36.193056",
     "status": "completed"
    },
    "tags": []
   },
   "outputs": [],
   "source": [
    "reduce_learning_rate = ReduceLROnPlateau(monitor = 'val_accuracy', patience = 3, verbose = 1, factor = 0.3, min_lr = 0.00001)\n",
    "checkpoint = ModelCheckpoint('bestmodel.h5', monitor = 'val_accuracy', verbose = 1, save_best_only = True, mode = 'max')\n",
    "\n",
    "callbacks = [reduce_learning_rate, checkpoint]"
   ]
  },
  {
   "cell_type": "markdown",
   "id": "7385bcc7",
   "metadata": {
    "papermill": {
     "duration": 0.549349,
     "end_time": "2022-04-29T18:57:37.835330",
     "exception": false,
     "start_time": "2022-04-29T18:57:37.285981",
     "status": "completed"
    },
    "tags": []
   },
   "source": [
    "# retraining the model after fine-tuning"
   ]
  },
  {
   "cell_type": "code",
   "execution_count": 17,
   "id": "d829ad31",
   "metadata": {
    "execution": {
     "iopub.execute_input": "2022-04-29T18:57:38.932446Z",
     "iopub.status.busy": "2022-04-29T18:57:38.932076Z",
     "iopub.status.idle": "2022-04-29T19:05:07.130226Z",
     "shell.execute_reply": "2022-04-29T19:05:07.128633Z"
    },
    "papermill": {
     "duration": 448.75498,
     "end_time": "2022-04-29T19:05:07.133019",
     "exception": false,
     "start_time": "2022-04-29T18:57:38.378039",
     "status": "completed"
    },
    "tags": []
   },
   "outputs": [
    {
     "name": "stderr",
     "output_type": "stream",
     "text": [
      "2022-04-29 18:57:38.948205: W tensorflow/core/framework/cpu_allocator_impl.cc:80] Allocation of 2721351168 exceeds 10% of free system memory.\n"
     ]
    },
    {
     "name": "stdout",
     "output_type": "stream",
     "text": [
      "Epoch 1/10\n",
      "57/57 [==============================] - 43s 725ms/step - loss: 0.5682 - accuracy: 0.8162 - val_loss: 3.8166 - val_accuracy: 0.1467\n",
      "\n",
      "Epoch 00001: val_accuracy improved from -inf to 0.14673, saving model to bestmodel.h5\n",
      "Epoch 2/10\n",
      "57/57 [==============================] - 41s 712ms/step - loss: 0.2549 - accuracy: 0.9192 - val_loss: 0.5752 - val_accuracy: 0.8187\n",
      "\n",
      "Epoch 00002: val_accuracy improved from 0.14673 to 0.81874, saving model to bestmodel.h5\n",
      "Epoch 3/10\n",
      "57/57 [==============================] - 41s 712ms/step - loss: 0.1776 - accuracy: 0.9465 - val_loss: 0.4170 - val_accuracy: 0.8545\n",
      "\n",
      "Epoch 00003: val_accuracy improved from 0.81874 to 0.85450, saving model to bestmodel.h5\n",
      "Epoch 4/10\n",
      "57/57 [==============================] - 41s 715ms/step - loss: 0.1242 - accuracy: 0.9626 - val_loss: 0.9051 - val_accuracy: 0.7226\n",
      "\n",
      "Epoch 00004: val_accuracy did not improve from 0.85450\n",
      "Epoch 5/10\n",
      "57/57 [==============================] - 41s 713ms/step - loss: 0.0865 - accuracy: 0.9754 - val_loss: 0.6251 - val_accuracy: 0.8200\n",
      "\n",
      "Epoch 00005: val_accuracy did not improve from 0.85450\n",
      "Epoch 6/10\n",
      "57/57 [==============================] - 41s 713ms/step - loss: 0.0707 - accuracy: 0.9805 - val_loss: 0.7250 - val_accuracy: 0.7719\n",
      "\n",
      "Epoch 00006: ReduceLROnPlateau reducing learning rate to 0.0001500000071246177.\n",
      "\n",
      "Epoch 00006: val_accuracy did not improve from 0.85450\n",
      "Epoch 7/10\n",
      "57/57 [==============================] - 41s 713ms/step - loss: 0.0337 - accuracy: 0.9936 - val_loss: 0.2087 - val_accuracy: 0.9383\n",
      "\n",
      "Epoch 00007: val_accuracy improved from 0.85450 to 0.93835, saving model to bestmodel.h5\n",
      "Epoch 8/10\n",
      "57/57 [==============================] - 41s 713ms/step - loss: 0.0187 - accuracy: 0.9985 - val_loss: 0.1783 - val_accuracy: 0.9457\n",
      "\n",
      "Epoch 00008: val_accuracy improved from 0.93835 to 0.94575, saving model to bestmodel.h5\n",
      "Epoch 9/10\n",
      "57/57 [==============================] - 41s 713ms/step - loss: 0.0158 - accuracy: 0.9986 - val_loss: 0.1707 - val_accuracy: 0.9519\n",
      "\n",
      "Epoch 00009: val_accuracy improved from 0.94575 to 0.95191, saving model to bestmodel.h5\n",
      "Epoch 10/10\n",
      "57/57 [==============================] - 41s 713ms/step - loss: 0.0133 - accuracy: 0.9990 - val_loss: 0.1898 - val_accuracy: 0.9470\n",
      "\n",
      "Epoch 00010: val_accuracy did not improve from 0.95191\n"
     ]
    }
   ],
   "source": [
    "model.compile(optimizer=Adam(lr=0.0005),loss='CategoricalCrossentropy',metrics=['accuracy'])\n",
    "\n",
    "history = model.fit(x_train,y_train, batch_size=128,\n",
    "                              epochs = 10, \n",
    "                              validation_data = (x_val,y_val),\n",
    "                              callbacks=callbacks,  \n",
    "                              verbose = 1,\n",
    "                             )"
   ]
  },
  {
   "cell_type": "code",
   "execution_count": 18,
   "id": "826ea026",
   "metadata": {
    "execution": {
     "iopub.execute_input": "2022-04-29T19:05:08.675554Z",
     "iopub.status.busy": "2022-04-29T19:05:08.675206Z",
     "iopub.status.idle": "2022-04-29T19:05:09.105243Z",
     "shell.execute_reply": "2022-04-29T19:05:09.104345Z"
    },
    "papermill": {
     "duration": 1.200349,
     "end_time": "2022-04-29T19:05:09.107465",
     "exception": false,
     "start_time": "2022-04-29T19:05:07.907116",
     "status": "completed"
    },
    "tags": []
   },
   "outputs": [
    {
     "data": {
      "image/png": "[encoded data removed]",
      "text/plain": [
       "<Figure size 432x288 with 1 Axes>"
      ]
     },
     "metadata": {
      "needs_background": "light"
     },
     "output_type": "display_data"
    },
    {
     "data": {
      "image/png": "[encoded data removed]",
      "text/plain": [
       "<Figure size 432x288 with 1 Axes>"
      ]
     },
     "metadata": {
      "needs_background": "light"
     },
     "output_type": "display_data"
    }
   ],
   "source": [
    "acc = history.history['accuracy']\n",
    "val_acc = history.history['val_accuracy']\n",
    "loss = history.history['loss']\n",
    "val_loss = history.history['val_loss']\n",
    "epochs = range(1, len(acc) + 1)\n",
    "plt.plot(epochs, acc, 'bo', label='Training accuracy')\n",
    "plt.plot(epochs, val_acc, 'r', label='Validation accuracy')\n",
    "plt.title('Training and validation accuracy')\n",
    "plt.legend()\n",
    "plt.figure()\n",
    "plt.plot(epochs, loss, 'bo', label='Training loss')\n",
    "plt.plot(epochs, val_loss, 'r', label='Validation loss')\n",
    "plt.title('Training and validation loss')\n",
    "plt.legend()\n",
    "plt.show()\n",
    "\n"
   ]
  },
  {
   "cell_type": "markdown",
   "id": "0475e9e0",
   "metadata": {
    "papermill": {
     "duration": 0.767639,
     "end_time": "2022-04-29T19:05:10.674220",
     "exception": false,
     "start_time": "2022-04-29T19:05:09.906581",
     "status": "completed"
    },
    "tags": []
   },
   "source": [
    "# saving the model"
   ]
  },
  {
   "cell_type": "code",
   "execution_count": 19,
   "id": "3cac7e17",
   "metadata": {
    "execution": {
     "iopub.execute_input": "2022-04-29T19:05:12.557300Z",
     "iopub.status.busy": "2022-04-29T19:05:12.557033Z",
     "iopub.status.idle": "2022-04-29T19:05:12.868592Z",
     "shell.execute_reply": "2022-04-29T19:05:12.867559Z"
    },
    "papermill": {
     "duration": 1.405624,
     "end_time": "2022-04-29T19:05:12.871347",
     "exception": false,
     "start_time": "2022-04-29T19:05:11.465723",
     "status": "completed"
    },
    "tags": []
   },
   "outputs": [],
   "source": [
    "model.save('TFmodel.h5')"
   ]
  }
 ],
 "metadata": {
  "kernelspec": {
   "display_name": "Python 3",
   "language": "python",
   "name": "python3"
  },
  "language_info": {
   "codemirror_mode": {
    "name": "ipython",
    "version": 3
   },
   "file_extension": ".py",
   "mimetype": "text/x-python",
   "name": "python",
   "nbconvert_exporter": "python",
   "pygments_lexer": "ipython3",
   "version": "3.7.0"
  },
  "papermill": {
   "default_parameters": {},
   "duration": 883.693876,
   "end_time": "2022-04-29T19:05:17.010043",
   "environment_variables": {},
   "exception": null,
   "input_path": "__notebook__.ipynb",
   "output_path": "__notebook__.ipynb",
   "parameters": {},
   "start_time": "2022-04-29T18:50:33.316167",
   "version": "2.3.4"
  }
 },
 "nbformat": 4,
 "nbformat_minor": 5
}
