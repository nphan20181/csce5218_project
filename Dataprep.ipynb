{
 "cells": [
  {
   "cell_type": "code",
   "execution_count": 1,
   "id": "49873249",
   "metadata": {},
   "outputs": [
    {
     "name": "stderr",
     "output_type": "stream",
     "text": [
      "C:\\ProgramData\\Anaconda3\\lib\\site-packages\\pydub\\utils.py:170: RuntimeWarning: Couldn't find ffmpeg or avconv - defaulting to ffmpeg, but may not work\n",
      "  warn(\"Couldn't find ffmpeg or avconv - defaulting to ffmpeg, but may not work\", RuntimeWarning)\n"
     ]
    }
   ],
   "source": [
    "#import all packages\n",
    "import tensorflow as tf\n",
    "import numpy as np\n",
    "import scipy\n",
    "#from scipy import misc\n",
    "import glob\n",
    "from PIL import Image\n",
    "import os\n",
    "import matplotlib.pyplot as plt\n",
    "import librosa\n",
    "from keras import layers\n",
    "from keras.layers import (Input, Add, Dense, Activation, ZeroPadding2D, BatchNormalization, Flatten, \n",
    "                          Conv2D, AveragePooling2D, MaxPooling2D, GlobalMaxPooling2D)\n",
    "from keras.models import Model, load_model\n",
    "from keras.preprocessing import image\n",
    "from keras.utils import layer_utils\n",
    "#import pydot\n",
    "from IPython.display import SVG\n",
    "#from keras.utils.vis_utils import model_to_dot\n",
    "#from keras.utils import plot_model\n",
    "#from keras.optimizers import Adam\n",
    "#from keras.initializers import glorot_uniform\n",
    "from matplotlib.backends.backend_agg import FigureCanvasAgg as FigureCanvas\n",
    "from pydub import AudioSegment\n",
    "import shutil\n",
    "from keras.preprocessing.image import ImageDataGenerator\n",
    "import random"
   ]
  },
  {
   "cell_type": "code",
   "execution_count": 2,
   "id": "a151f61c",
   "metadata": {},
   "outputs": [],
   "source": [
    "#Creating directories to store the project data\n",
    "os.makedirs('/content/spectrograms3sec')\n",
    "os.makedirs('/content/spectrograms3sec/train')\n",
    "os.makedirs('/content/spectrograms3sec/test')\n",
    "\n",
    "genres = 'blues classical country disco hiphop metal pop reggae rock'\n",
    "genres = genres.split()\n",
    "for g in genres:\n",
    "  path_audio = os.path.join('/content/audio3sec',f'{g}')\n",
    "  os.makedirs(path_audio)\n",
    "  path_train = os.path.join('/content/gdrive/My Drive/spectrograms3sec/train',f'{g}')\n",
    "  path_test = os.path.join('/content/gdrive/My Drive/spectrograms3sec/test',f'{g}')\n",
    "  os. makedirs(path_train)\n",
    "  os. makedirs(path_test)"
   ]
  },
  {
   "cell_type": "code",
   "execution_count": null,
   "id": "ba5d3705",
   "metadata": {},
   "outputs": [],
   "source": [
    "#Segment audio each audio file into 10 files of 3 seconds duration\n",
    "from pydub import AudioSegment\n",
    "i = 0\n",
    "for g in genres:\n",
    "  j=0\n",
    "  print(f\"{g}\")\n",
    "  for filename in os.listdir(os.path.join('/content/gdrive/My Drive/kossi/genres',f\"{g}\")):\n",
    "\n",
    "    song  =  os.path.join(f'/content/gdrive/My Drive/kossi/genres/{g}',f'{filename}')\n",
    "    j = j+1\n",
    "    for w in range(0,10):\n",
    "      i = i+1\n",
    "      #print(i)\n",
    "      t1 = 3*(w)*1000\n",
    "      t2 = 3*(w+1)*1000\n",
    "      newAudio = AudioSegment.from_wav(song)\n",
    "      new = newAudio[t1:t2]\n",
    "      new.export(f'/content/audio3sec/{g}/{g+str(j)+str(w)}.wav', format=\"wav\")"
   ]
  },
  {
   "cell_type": "code",
   "execution_count": null,
   "id": "731e7f7a",
   "metadata": {},
   "outputs": [],
   "source": [
    "#Transform the audio files into images\n",
    "\n",
    "for g in genres:\n",
    "  j = 0\n",
    "  print(g)\n",
    "  for filename in os.listdir(os.path.join('/content/audio3sec',f\"{g}\")):\n",
    "    song  =  os.path.join(f'/content/audio3sec/{g}',f'{filename}')\n",
    "    j = j+1\n",
    "    \n",
    "    y,sr = librosa.load(song,duration=3)\n",
    "    \n",
    "    mels = librosa.feature.melspectrogram(y=y,sr=sr)\n",
    "    fig = plt.Figure()\n",
    "    canvas = FigureCanvas(fig)\n",
    "    p = plt.imshow(librosa.power_to_db(mels,ref=np.max))\n",
    "    plt.savefig(f'/content/gdrive/My Drive/spectrograms3sec/train/{g}/{g+str(j)}.png')"
   ]
  },
  {
   "cell_type": "code",
   "execution_count": 3,
   "id": "ad3fb8f4",
   "metadata": {},
   "outputs": [],
   "source": [
    "#Split data into train and test dataset\n",
    "directory = \"/content/gdrive/My Drive/spectrograms3sec/train/\"\n",
    "for g in genres:\n",
    "  filenames = os.listdir(os.path.join(directory,f\"{g}\"))\n",
    "  random.shuffle(filenames)\n",
    "  test_files = filenames[0:100]\n",
    "\n",
    "  for f in test_files:\n",
    "\n",
    "    shutil.move(directory + f\"{g}\"+ \"/\" + f,\"/content/gdrive/My Drive/spectrograms3sec/test/\" + f\"{g}\")"
   ]
  },
  {
   "cell_type": "code",
   "execution_count": null,
   "id": "a27c8b56",
   "metadata": {},
   "outputs": [],
   "source": []
  }
 ],
 "metadata": {
  "kernelspec": {
   "display_name": "Python 3 (ipykernel)",
   "language": "python",
   "name": "python3"
  },
  "language_info": {
   "codemirror_mode": {
    "name": "ipython",
    "version": 3
   },
   "file_extension": ".py",
   "mimetype": "text/x-python",
   "name": "python",
   "nbconvert_exporter": "python",
   "pygments_lexer": "ipython3",
   "version": "3.9.7"
  }
 },
 "nbformat": 4,
 "nbformat_minor": 5
}
