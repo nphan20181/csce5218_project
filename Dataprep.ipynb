{
 "cells": [
  {
   "cell_type": "markdown",
   "id": "a4bda224",
   "metadata": {},
   "source": [
    "# This portion is concerned with data preparation. \n",
    "\n",
    "# Please go to https://www.kaggle.com/datasets/andradaolteanu/gtzan-dataset-music-genre-classification  to download the raw data from kaggle.\n",
    "\n",
    "# And place the downloaded folder in the main directory with the name 'Data'\n"
   ]
  },
  {
   "cell_type": "markdown",
   "id": "b8755799",
   "metadata": {},
   "source": [
    "# Import all libraries"
   ]
  },
  {
   "cell_type": "code",
   "execution_count": 1,
   "id": "40b00300",
   "metadata": {},
   "outputs": [
    {
     "name": "stderr",
     "output_type": "stream",
     "text": [
      "Using TensorFlow backend.\n",
      "/opt/anaconda3/lib/python3.7/site-packages/pydub/utils.py:170: RuntimeWarning: Couldn't find ffmpeg or avconv - defaulting to ffmpeg, but may not work\n",
      "  warn(\"Couldn't find ffmpeg or avconv - defaulting to ffmpeg, but may not work\", RuntimeWarning)\n"
     ]
    }
   ],
   "source": [
    "import tensorflow as tf\n",
    "import numpy as np\n",
    "import scipy\n",
    "import glob\n",
    "from PIL import Image\n",
    "import os\n",
    "import matplotlib.pyplot as plt\n",
    "from keras import layers\n",
    "from keras.layers import (Input, Add, Dense, Activation, ZeroPadding2D, BatchNormalization, Flatten, \n",
    "                          Conv2D, AveragePooling2D, MaxPooling2D, GlobalMaxPooling2D)\n",
    "from keras.models import Model, load_model\n",
    "from keras.preprocessing import image\n",
    "from keras.utils import layer_utils\n",
    "from IPython.display import SVG\n",
    "\n",
    "from matplotlib.backends.backend_agg import FigureCanvasAgg as FigureCanvas\n",
    "from pydub import AudioSegment\n",
    "import shutil\n",
    "from keras.preprocessing.image import ImageDataGenerator\n",
    "import random\n",
    "import librosa"
   ]
  },
  {
   "cell_type": "markdown",
   "id": "6582d26d",
   "metadata": {},
   "source": [
    "# Creating directories to store the project data\n",
    "# We are creating a directory for each folder. You could change the directory if you want "
   ]
  },
  {
   "cell_type": "code",
   "execution_count": 7,
   "id": "9b05c84b",
   "metadata": {},
   "outputs": [],
   "source": [
    "os.makedirs('train')\n",
    "os.makedirs('test')\n",
    "\n",
    "genres = 'blues classical country disco hiphop metal pop reggae rock'\n",
    "genres = genres.split()\n",
    "for g in genres:\n",
    "    path_audio = os.path.join('audio3sec',f'{g}')\n",
    "    os.makedirs(path_audio)\n",
    "    path_train = os.path.join('train',f'{g}')\n",
    "    path_test = os.path.join('test',f'{g}')\n",
    "    os. makedirs(path_train)\n",
    "    os. makedirs(path_test)"
   ]
  },
  {
   "cell_type": "markdown",
   "id": "d6369f27",
   "metadata": {},
   "source": [
    "# Segment audio each audio file into 10 files of 3 seconds duration"
   ]
  },
  {
   "cell_type": "code",
   "execution_count": 11,
   "id": "9c8494b9",
   "metadata": {},
   "outputs": [
    {
     "name": "stdout",
     "output_type": "stream",
     "text": [
      "blues\n",
      "classical\n",
      "country\n",
      "disco\n",
      "hiphop\n",
      "metal\n",
      "pop\n",
      "reggae\n",
      "rock\n"
     ]
    }
   ],
   "source": [
    "from pydub import AudioSegment\n",
    "i = 0\n",
    "for g in genres:\n",
    "    j=0\n",
    "    print(f\"{g}\")\n",
    "    \n",
    "    for filename in os.listdir(os.path.join('Data/genres_original',f\"{g}\")):\n",
    "\n",
    "        song  =  os.path.join(f'Data/genres_original/{g}',f'{filename}')\n",
    "        j = j+1\n",
    "    \n",
    "        for w in range(0,10):\n",
    "            i = i+1\n",
    "\n",
    "            t1 = 3*(w)*1000\n",
    "            t2 = 3*(w+1)*1000\n",
    "            newAudio = AudioSegment.from_wav(song)\n",
    "            new = newAudio[t1:t2]\n",
    "            new.export(f'audio3sec/{g}/{g+str(j)+str(w)}.wav', format=\"wav\")"
   ]
  },
  {
   "cell_type": "markdown",
   "id": "24178262",
   "metadata": {},
   "source": [
    "# Transform the audio files into images"
   ]
  },
  {
   "cell_type": "code",
   "execution_count": 5,
   "id": "7085fc96",
   "metadata": {},
   "outputs": [],
   "source": [
    "for g in genres:\n",
    "    j = 0\n",
    "    print(g)\n",
    "    for filename in os.listdir(os.path.join('audio3sec',f\"{g}\")):\n",
    "        song  =  os.path.join(f'audio3sec/{g}',f'{filename}')\n",
    "        j = j+1\n",
    "    \n",
    "        y,sr = librosa.load(song,duration=3)\n",
    "    \n",
    "        mels = librosa.feature.melspectrogram(y=y,sr=sr)\n",
    "        fig = plt.Figure()\n",
    "        canvas = FigureCanvas(fig)\n",
    "        p = plt.imshow(librosa.power_to_db(mels,ref=np.max))\n",
    "        plt.savefig(f'train/{g}/{g+str(j)}.png')"
   ]
  },
  {
   "cell_type": "markdown",
   "id": "0a037590",
   "metadata": {},
   "source": [
    "# Split data into train and test dataset"
   ]
  },
  {
   "cell_type": "code",
   "execution_count": 6,
   "id": "ada0e108",
   "metadata": {},
   "outputs": [],
   "source": [
    "directory = \"train/\"\n",
    "for g in genres:\n",
    "    filenames = os.listdir(os.path.join(directory,f\"{g}\"))\n",
    "    random.shuffle(filenames)\n",
    "    test_files = filenames[0:100]\n",
    "\n",
    "    for f in test_files:\n",
    "\n",
    "        shutil.move(directory + f\"{g}\"+ \"/\" + f,\"test/\" + f\"{g}\")"
   ]
  },
  {
   "cell_type": "markdown",
   "id": "4b116dc2",
   "metadata": {},
   "source": [
    "# The already pre-processed dataset could be found on on the below link\n",
    "# https://drive.google.com/drive/folders/1AQU8whF8VYNGBVG_3SWsn3sgqbk7j-4o"
   ]
  },
  {
   "cell_type": "code",
   "execution_count": null,
   "id": "867743b2",
   "metadata": {},
   "outputs": [],
   "source": []
  }
 ],
 "metadata": {
  "kernelspec": {
   "display_name": "Python 3",
   "language": "python",
   "name": "python3"
  },
  "language_info": {
   "codemirror_mode": {
    "name": "ipython",
    "version": 3
   },
   "file_extension": ".py",
   "mimetype": "text/x-python",
   "name": "python",
   "nbconvert_exporter": "python",
   "pygments_lexer": "ipython3",
   "version": "3.7.0"
  }
 },
 "nbformat": 4,
 "nbformat_minor": 5
}
