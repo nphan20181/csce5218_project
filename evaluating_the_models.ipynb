{
  "cells": [
    {
      "cell_type": "markdown",
      "id": "94fbe4ae",
      "metadata": {
        "id": "94fbe4ae"
      },
      "source": [
        "# importing libraties"
      ]
    },
    {
      "cell_type": "code",
      "execution_count": 52,
      "id": "5445cf40",
      "metadata": {
        "id": "5445cf40"
      },
      "outputs": [],
      "source": [
        "from keras import models\n",
        "import os\n",
        "from tqdm import tqdm\n",
        "import cv2\n",
        "import numpy as np\n",
        "from tensorflow.keras.utils import to_categorical\n",
        "from sklearn.preprocessing import LabelEncoder\n",
        "from sklearn.metrics import confusion_matrix\n",
        "from sklearn import metrics\n",
        "import matplotlib.pyplot as plt\n",
        "import itertools"
      ]
    },
    {
      "cell_type": "markdown",
      "id": "82db3fb0",
      "metadata": {
        "id": "82db3fb0"
      },
      "source": [
        "# creating testing dataset"
      ]
    },
    {
      "cell_type": "code",
      "execution_count": 21,
      "id": "c4ae82a3",
      "metadata": {
        "colab": {
          "base_uri": "https://localhost:8080/"
        },
        "id": "c4ae82a3",
        "outputId": "c31eae8f-cf66-40bf-ac8c-d1c169ed632c"
      },
      "outputs": [
        {
          "output_type": "stream",
          "name": "stdout",
          "text": [
            "Mounted at /content/drive\n"
          ]
        }
      ],
      "source": [
        "from google.colab import drive\n",
        "drive.mount('/content/drive')"
      ]
    },
    {
      "cell_type": "code",
      "execution_count": 25,
      "id": "13e35773",
      "metadata": {
        "colab": {
          "base_uri": "https://localhost:8080/"
        },
        "id": "13e35773",
        "outputId": "d4a24253-f036-4f13-f2c1-1da1b3e6a0de"
      },
      "outputs": [
        {
          "output_type": "stream",
          "name": "stderr",
          "text": [
            "100%|██████████| 100/100 [00:02<00:00, 44.06it/s] \n",
            "100%|██████████| 100/100 [00:02<00:00, 45.52it/s]\n",
            "100%|██████████| 100/100 [00:02<00:00, 44.25it/s]\n",
            "100%|██████████| 100/100 [00:02<00:00, 48.63it/s]\n",
            "100%|██████████| 100/100 [00:01<00:00, 53.54it/s]\n",
            "100%|██████████| 100/100 [00:02<00:00, 49.19it/s]\n",
            "100%|██████████| 100/100 [00:02<00:00, 48.64it/s]\n",
            "100%|██████████| 100/100 [00:01<00:00, 52.57it/s] \n",
            "100%|██████████| 100/100 [00:01<00:00, 50.58it/s] \n"
          ]
        }
      ],
      "source": [
        "x=[]\n",
        "y=[]\n",
        "path='/content/drive/MyDrive/evaluating models/test/'\n",
        "for ftype in os.listdir(path):\n",
        "    for img in tqdm(os.listdir(path+ftype)):\n",
        "        label=ftype\n",
        "        path1 = os.path.join(path+ftype,img)\n",
        "        img = cv2.imread(path1)\n",
        "        x.append(np.array(img))\n",
        "        y.append(str(label))"
      ]
    },
    {
      "cell_type": "markdown",
      "source": [
        "# encoding data"
      ],
      "metadata": {
        "id": "djEIZtrfW474"
      },
      "id": "djEIZtrfW474"
    },
    {
      "cell_type": "code",
      "source": [
        "encoder=LabelEncoder()\n",
        "y=encoder.fit_transform(y)\n",
        "y=to_categorical(y,9)\n",
        "x=np.array(x)"
      ],
      "metadata": {
        "id": "ENMdYTJjWuoB"
      },
      "id": "ENMdYTJjWuoB",
      "execution_count": 30,
      "outputs": []
    },
    {
      "cell_type": "markdown",
      "source": [
        "# Loading and visualizing  the basic model"
      ],
      "metadata": {
        "id": "8a_Xj8n4XZEY"
      },
      "id": "8a_Xj8n4XZEY"
    },
    {
      "cell_type": "code",
      "execution_count": 27,
      "id": "58699551",
      "metadata": {
        "id": "58699551"
      },
      "outputs": [],
      "source": [
        "model= models.load_model('/content/drive/MyDrive/evaluating models/base_model.h5')"
      ]
    },
    {
      "cell_type": "code",
      "source": [
        "model.summary()"
      ],
      "metadata": {
        "colab": {
          "base_uri": "https://localhost:8080/"
        },
        "id": "yJxMtViyXro7",
        "outputId": "be17fbec-20e2-4a13-ac57-c2b6edc62a26"
      },
      "id": "yJxMtViyXro7",
      "execution_count": 32,
      "outputs": [
        {
          "output_type": "stream",
          "name": "stdout",
          "text": [
            "Model: \"functional_1\"\n",
            "_________________________________________________________________\n",
            " Layer (type)                Output Shape              Param #   \n",
            "=================================================================\n",
            " input_1 (InputLayer)        [(None, 288, 432, 3)]     0         \n",
            "                                                                 \n",
            " conv2d (Conv2D)             (None, 286, 430, 8)       224       \n",
            "                                                                 \n",
            " batch_normalization (BatchN  (None, 286, 430, 8)      32        \n",
            " ormalization)                                                   \n",
            "                                                                 \n",
            " activation (Activation)     (None, 286, 430, 8)       0         \n",
            "                                                                 \n",
            " max_pooling2d (MaxPooling2D  (None, 143, 215, 8)      0         \n",
            " )                                                               \n",
            "                                                                 \n",
            " conv2d_1 (Conv2D)           (None, 141, 213, 64)      4672      \n",
            "                                                                 \n",
            " batch_normalization_1 (Batc  (None, 141, 213, 64)     256       \n",
            " hNormalization)                                                 \n",
            "                                                                 \n",
            " activation_1 (Activation)   (None, 141, 213, 64)      0         \n",
            "                                                                 \n",
            " max_pooling2d_1 (MaxPooling  (None, 70, 106, 64)      0         \n",
            " 2D)                                                             \n",
            "                                                                 \n",
            " flatten (Flatten)           (None, 474880)            0         \n",
            "                                                                 \n",
            " dense (Dense)               (None, 9)                 4273929   \n",
            "                                                                 \n",
            "=================================================================\n",
            "Total params: 4,279,113\n",
            "Trainable params: 4,278,969\n",
            "Non-trainable params: 144\n",
            "_________________________________________________________________\n"
          ]
        }
      ]
    },
    {
      "cell_type": "markdown",
      "source": [
        "# function for using confusion matrix"
      ],
      "metadata": {
        "id": "bp7HBTmmYbwF"
      },
      "id": "bp7HBTmmYbwF"
    },
    {
      "cell_type": "code",
      "source": [
        "def plot_confusion_matrix(cm, classes,\n",
        "                          normalize=False,\n",
        "                          title='Confusion matrix',\n",
        "                              cmap=plt.cm.Greens):\n",
        "\n",
        "    plt.imshow(cm, interpolation='nearest', cmap=cmap)\n",
        "    plt.title(title)\n",
        "    plt.colorbar()\n",
        "    tick_marks = np.arange(len(classes))\n",
        "    plt.xticks(tick_marks, classes, rotation=45)\n",
        "    plt.yticks(tick_marks, classes)\n",
        "\n",
        "    if normalize:\n",
        "        cm = cm.astype('float') / cm.sum(axis=1)[:, np.newaxis]\n",
        "\n",
        "    thresh = cm.max() / 2.\n",
        "    for i, j in itertools.product(range(cm.shape[0]), range(cm.shape[1])):\n",
        "        plt.text(j, i, cm[i, j],\n",
        "                 horizontalalignment=\"center\",\n",
        "                 color=\"white\" if cm[i, j] > thresh else \"black\")\n",
        "\n",
        "    plt.tight_layout()\n",
        "    plt.ylabel('True label')\n",
        "    plt.xlabel('Predicted label')"
      ],
      "metadata": {
        "id": "AtLnv0I6YbPR"
      },
      "id": "AtLnv0I6YbPR",
      "execution_count": 37,
      "outputs": []
    },
    {
      "cell_type": "markdown",
      "source": [
        "# Evaluating the accuracy and loss of the basic model using testing dataset"
      ],
      "metadata": {
        "id": "t0yIBXTfXzkN"
      },
      "id": "t0yIBXTfXzkN"
    },
    {
      "cell_type": "code",
      "source": [
        "model.evaluate(x,y)"
      ],
      "metadata": {
        "colab": {
          "base_uri": "https://localhost:8080/"
        },
        "id": "ryHxH050Wpue",
        "outputId": "f76da7fd-208d-4352-e0c7-3246864737f9"
      },
      "id": "ryHxH050Wpue",
      "execution_count": 31,
      "outputs": [
        {
          "output_type": "stream",
          "name": "stdout",
          "text": [
            "29/29 [==============================] - 21s 705ms/step - loss: 2.4416 - accuracy: 0.8567\n"
          ]
        },
        {
          "output_type": "execute_result",
          "data": {
            "text/plain": [
              "[2.441640615463257, 0.8566666841506958]"
            ]
          },
          "metadata": {},
          "execution_count": 31
        }
      ]
    },
    {
      "cell_type": "markdown",
      "source": [
        "# Evaluating other metrics of the model"
      ],
      "metadata": {
        "id": "EevJMaZQZf1p"
      },
      "id": "EevJMaZQZf1p"
    },
    {
      "cell_type": "code",
      "source": [
        "pred=np.argmax(model.predict(x),axis=1)\n",
        "ytest=np.argmax(y,axis=1)"
      ],
      "metadata": {
        "id": "OFwPV7fkZsJp"
      },
      "id": "OFwPV7fkZsJp",
      "execution_count": 46,
      "outputs": []
    },
    {
      "cell_type": "code",
      "source": [
        "print(metrics.classification_report(ytest, pred, digits=9))"
      ],
      "metadata": {
        "colab": {
          "base_uri": "https://localhost:8080/"
        },
        "id": "MifsxJ_idf4B",
        "outputId": "3abef894-83da-478e-b51a-70bc91bee24d"
      },
      "id": "MifsxJ_idf4B",
      "execution_count": 53,
      "outputs": [
        {
          "output_type": "stream",
          "name": "stdout",
          "text": [
            "              precision    recall  f1-score   support\n",
            "\n",
            "           0  0.932584270 0.830000000 0.878306878       100\n",
            "           1  0.934579439 1.000000000 0.966183575       100\n",
            "           2  0.897959184 0.880000000 0.888888889       100\n",
            "           3  0.887500000 0.710000000 0.788888889       100\n",
            "           4  0.712000000 0.890000000 0.791111111       100\n",
            "           5  0.977528090 0.870000000 0.920634921       100\n",
            "           6  0.890000000 0.890000000 0.890000000       100\n",
            "           7  0.778761062 0.880000000 0.826291080       100\n",
            "           8  0.767676768 0.760000000 0.763819095       100\n",
            "\n",
            "    accuracy                      0.856666667       900\n",
            "   macro avg  0.864287646 0.856666667 0.857124938       900\n",
            "weighted avg  0.864287646 0.856666667 0.857124938       900\n",
            "\n"
          ]
        }
      ]
    },
    {
      "cell_type": "markdown",
      "source": [
        "# Plotting the confusion_matrix"
      ],
      "metadata": {
        "id": "Bdv7IXkydLYE"
      },
      "id": "Bdv7IXkydLYE"
    },
    {
      "cell_type": "code",
      "source": [
        "confusion_mtx = confusion_matrix(ytest, pred)\n",
        "plot_confusion_matrix(confusion_mtx, classes = range(9))"
      ],
      "metadata": {
        "colab": {
          "base_uri": "https://localhost:8080/",
          "height": 311
        },
        "id": "UkcTOxMoZ8tk",
        "outputId": "95d3daf3-fac1-4cf8-8464-4f1ac8b8aff8"
      },
      "id": "UkcTOxMoZ8tk",
      "execution_count": 51,
      "outputs": [
        {
          "output_type": "display_data",
          "data": {
            "text/plain": [
              "<Figure size 432x288 with 2 Axes>"
            ],
            "image/png": "[encoded data removed]"
          },
          "metadata": {
            "needs_background": "light"
          }
        }
      ]
    },
    {
      "cell_type": "markdown",
      "source": [
        "# Loading and visualizing the Transfer learning model using testing dataset"
      ],
      "metadata": {
        "id": "fHCMTPsPeveO"
      },
      "id": "fHCMTPsPeveO"
    },
    {
      "cell_type": "code",
      "source": [
        "tmodel= models.load_model('/content/drive/MyDrive/evaluating models/bestmodel.h5')"
      ],
      "metadata": {
        "id": "xssQCCuBewGi"
      },
      "id": "xssQCCuBewGi",
      "execution_count": 54,
      "outputs": []
    },
    {
      "cell_type": "code",
      "source": [
        "tmodel.summary()"
      ],
      "metadata": {
        "colab": {
          "base_uri": "https://localhost:8080/"
        },
        "id": "3IBkFFUUfF8Q",
        "outputId": "242543f8-f3e2-41cb-ece1-eeeeda4b9599"
      },
      "id": "3IBkFFUUfF8Q",
      "execution_count": 55,
      "outputs": [
        {
          "output_type": "stream",
          "name": "stdout",
          "text": [
            "Model: \"sequential\"\n",
            "_________________________________________________________________\n",
            " Layer (type)                Output Shape              Param #   \n",
            "=================================================================\n",
            " vgg16 (Functional)          (None, 9, 13, 512)        14714688  \n",
            "                                                                 \n",
            " conv2d (Conv2D)             (None, 5, 9, 256)         3277056   \n",
            "                                                                 \n",
            " batch_normalization (BatchN  (None, 5, 9, 256)        1024      \n",
            " ormalization)                                                   \n",
            "                                                                 \n",
            " activation (Activation)     (None, 5, 9, 256)         0         \n",
            "                                                                 \n",
            " conv2d_1 (Conv2D)           (None, 3, 7, 128)         295040    \n",
            "                                                                 \n",
            " batch_normalization_1 (Batc  (None, 3, 7, 128)        512       \n",
            " hNormalization)                                                 \n",
            "                                                                 \n",
            " activation_1 (Activation)   (None, 3, 7, 128)         0         \n",
            "                                                                 \n",
            " conv2d_2 (Conv2D)           (None, 1, 5, 128)         147584    \n",
            "                                                                 \n",
            " batch_normalization_2 (Batc  (None, 1, 5, 128)        512       \n",
            " hNormalization)                                                 \n",
            "                                                                 \n",
            " activation_2 (Activation)   (None, 1, 5, 128)         0         \n",
            "                                                                 \n",
            " flatten (Flatten)           (None, 640)               0         \n",
            "                                                                 \n",
            " dense (Dense)               (None, 256)               164096    \n",
            "                                                                 \n",
            " dense_1 (Dense)             (None, 128)               32896     \n",
            "                                                                 \n",
            " dense_2 (Dense)             (None, 9)                 1161      \n",
            "                                                                 \n",
            "=================================================================\n",
            "Total params: 18,634,569\n",
            "Trainable params: 10,998,281\n",
            "Non-trainable params: 7,636,288\n",
            "_________________________________________________________________\n"
          ]
        }
      ]
    },
    {
      "cell_type": "markdown",
      "source": [
        "# Evaluating the accuracy and loss of the transfer learning model using testing dataset"
      ],
      "metadata": {
        "id": "GuTWj6TbfKhZ"
      },
      "id": "GuTWj6TbfKhZ"
    },
    {
      "cell_type": "code",
      "source": [
        "tmodel.evaluate(x,y)"
      ],
      "metadata": {
        "colab": {
          "base_uri": "https://localhost:8080/"
        },
        "id": "rmGC2U5KfJv_",
        "outputId": "f2faf2d4-bf6d-4ada-e6f8-d1c74c88cd3f"
      },
      "id": "rmGC2U5KfJv_",
      "execution_count": 56,
      "outputs": [
        {
          "output_type": "stream",
          "name": "stdout",
          "text": [
            "29/29 [==============================] - 832s 29s/step - loss: 0.1424 - accuracy: 0.9489\n"
          ]
        },
        {
          "output_type": "execute_result",
          "data": {
            "text/plain": [
              "[0.14238306879997253, 0.948888897895813]"
            ]
          },
          "metadata": {},
          "execution_count": 56
        }
      ]
    },
    {
      "cell_type": "markdown",
      "source": [
        "# Evaluating other metrics of the model"
      ],
      "metadata": {
        "id": "Q44nV2xsfvV8"
      },
      "id": "Q44nV2xsfvV8"
    },
    {
      "cell_type": "code",
      "source": [
        "pred=np.argmax(tmodel.predict(x),axis=1)\n",
        "ytest=np.argmax(y,axis=1)"
      ],
      "metadata": {
        "id": "8SMeD4nbfwow"
      },
      "id": "8SMeD4nbfwow",
      "execution_count": 57,
      "outputs": []
    },
    {
      "cell_type": "code",
      "source": [
        "print(metrics.classification_report(ytest, pred, digits=9))"
      ],
      "metadata": {
        "colab": {
          "base_uri": "https://localhost:8080/"
        },
        "id": "Gn_7OL2YmF0E",
        "outputId": "69d2ddfe-9b98-41e7-b3c4-e13632eec2ae"
      },
      "id": "Gn_7OL2YmF0E",
      "execution_count": 59,
      "outputs": [
        {
          "output_type": "stream",
          "name": "stdout",
          "text": [
            "              precision    recall  f1-score   support\n",
            "\n",
            "           0  0.979591837 0.960000000 0.969696970       100\n",
            "           1  0.990000000 0.990000000 0.990000000       100\n",
            "           2  0.909090909 1.000000000 0.952380952       100\n",
            "           3  0.978021978 0.890000000 0.931937173       100\n",
            "           4  0.970000000 0.970000000 0.970000000       100\n",
            "           5  0.925233645 0.990000000 0.956521739       100\n",
            "           6  0.912621359 0.940000000 0.926108374       100\n",
            "           7  0.948979592 0.930000000 0.939393939       100\n",
            "           8  0.935483871 0.870000000 0.901554404       100\n",
            "\n",
            "    accuracy                      0.948888889       900\n",
            "   macro avg  0.949891466 0.948888889 0.948621506       900\n",
            "weighted avg  0.949891466 0.948888889 0.948621506       900\n",
            "\n"
          ]
        }
      ]
    },
    {
      "cell_type": "markdown",
      "source": [
        "# Plotting the confusion_matrix"
      ],
      "metadata": {
        "id": "Rai7bbuBf5VA"
      },
      "id": "Rai7bbuBf5VA"
    },
    {
      "cell_type": "code",
      "source": [
        "confusion_mtx = confusion_matrix(ytest, pred)\n",
        "plot_confusion_matrix(confusion_mtx, classes = range(9))"
      ],
      "metadata": {
        "colab": {
          "base_uri": "https://localhost:8080/",
          "height": 311
        },
        "id": "hu82dROigDqb",
        "outputId": "8a5161a8-4b93-4772-e18d-4036f2f099c0"
      },
      "id": "hu82dROigDqb",
      "execution_count": 58,
      "outputs": [
        {
          "output_type": "display_data",
          "data": {
            "text/plain": [
              "<Figure size 432x288 with 2 Axes>"
            ],
            "image/png": "[encoded data removed]"
          },
          "metadata": {
            "needs_background": "light"
          }
        }
      ]
    }
  ],
  "metadata": {
    "kernelspec": {
      "display_name": "Python 3",
      "language": "python",
      "name": "python3"
    },
    "language_info": {
      "codemirror_mode": {
        "name": "ipython",
        "version": 3
      },
      "file_extension": ".py",
      "mimetype": "text/x-python",
      "name": "python",
      "nbconvert_exporter": "python",
      "pygments_lexer": "ipython3",
      "version": "3.7.0"
    },
    "colab": {
      "name": "model-evaluations.ipynb",
      "provenance": []
    }
  },
  "nbformat": 4,
  "nbformat_minor": 5
}